{
 "cells": [
  {
   "cell_type": "code",
   "execution_count": null,
   "metadata": {},
   "outputs": [],
   "source": [
    "import pandas\n",
    "import math\n",
    "import numpy as np\n",
    "import matplotlib.pyplot as plt\n",
    "import statsmodels.api as sm\n",
    "from scipy.stats import norm\n",
    "from statsmodels.sandbox.regression.gmm import GMM\n",
    "from statsmodels.base.model import GenericLikelihoodModel\n",
    "from scipy.stats import genextreme"
   ]
  },
  {
   "cell_type": "code",
   "execution_count": null,
   "metadata": {},
   "outputs": [],
   "source": [
    "#load data into memory\n",
    "data1 = np.genfromtxt('OTC_Data_forStata_modified.csv', delimiter=',')\n",
    "\n",
    "#partition correctly\n",
    "y = data1[5]\n",
    "x = sm.add_constant(data1[6])"
   ]
  },
  {
   "cell_type": "code",
   "execution_count": null,
   "metadata": {},
   "outputs": [],
   "source": [
    "part_a = sm.OLS(y,x).fit()\n",
    "print(part_a.summary())"
   ]
  },
  {
   "cell_type": "code",
   "execution_count": 10,
   "metadata": {},
   "outputs": [
    {
     "name": "stdout",
     "output_type": "stream",
     "text": [
      "Optimization terminated successfully.\n",
      "         Current function value: 7.396639\n",
      "         Iterations: 198\n",
      "         Function evaluations: 365\n",
      "                                part_b Results                                \n",
      "==============================================================================\n",
      "Dep. Variable:                      y   Log-Likelihood:                -162.73\n",
      "Model:                         part_b   AIC:                             325.5\n",
      "Method:            Maximum Likelihood   BIC:                             325.5\n",
      "Date:                Tue, 26 Mar 2024                                         \n",
      "Time:                        16:58:26                                         \n",
      "No. Observations:                  22                                         \n",
      "Df Residuals:                      21                                         \n",
      "Df Model:                           0                                         \n",
      "==============================================================================\n",
      "                 coef    std err          z      P>|z|      [0.025      0.975]\n",
      "------------------------------------------------------------------------------\n",
      "theta_1      129.3311   2.63e-07   4.92e+08      0.000     129.331     129.331\n",
      "theta_2        1.0000   9.35e-26   1.07e+25      0.000       1.000       1.000\n",
      "sigma        170.0861   4.91e-18   3.47e+19      0.000     170.086     170.086\n",
      "==============================================================================\n"
     ]
    },
    {
     "name": "stderr",
     "output_type": "stream",
     "text": [
      "/Users/ynbsztl/opt/anaconda3/lib/python3.9/site-packages/scipy/stats/_continuous_distns.py:2858: RuntimeWarning: overflow encountered in exp\n",
      "  pex2 = np.exp(logpex2)\n",
      "/Users/ynbsztl/opt/anaconda3/lib/python3.9/site-packages/statsmodels/base/model.py:2694: UserWarning: df_model + k_constant differs from nparams\n",
      "  warnings.warn(\"df_model + k_constant differs from nparams\")\n",
      "/Users/ynbsztl/opt/anaconda3/lib/python3.9/site-packages/statsmodels/base/model.py:2696: UserWarning: df_resid differs from nobs - nparams\n",
      "  warnings.warn(\"df_resid differs from nobs - nparams\")\n"
     ]
    }
   ],
   "source": [
    "class part_b(GenericLikelihoodModel):\n",
    "\n",
    "    def nloglikeobs(self, params):\n",
    "        t1, t2, sigma = params\n",
    "        endog, exog = self.endog, self.exog.squeeze()\n",
    "        eps = endog - t1 - t2*exog\n",
    "        return - genextreme.logpdf(eps, c=0, loc=0, scale=sigma).sum()\n",
    "    \n",
    "    def fit(self, start_params=None, maxiter=10000, maxfun=5000, **kwds):\n",
    "        if start_params == None:\n",
    "            start_params = start_params = [.5, .5,.5]\n",
    "        return super(part_b, self).fit(start_params=start_params,\n",
    "                                       maxiter=maxiter, maxfun=maxfun, **kwds)\n",
    "\n",
    "model_b = part_b(data1[5],data1[6])\n",
    "\n",
    "result_b = model_b.fit()\n",
    "print(result_b.summary(xname=['theta_1', 'theta_2', 'sigma']))"
   ]
  },
  {
   "cell_type": "code",
   "execution_count": null,
   "metadata": {},
   "outputs": [],
   "source": []
  },
  {
   "cell_type": "code",
   "execution_count": null,
   "metadata": {},
   "outputs": [],
   "source": []
  }
 ],
 "metadata": {
  "kernelspec": {
   "display_name": "Python 3",
   "language": "python",
   "name": "python3"
  },
  "language_info": {
   "codemirror_mode": {
    "name": "ipython",
    "version": 3
   },
   "file_extension": ".py",
   "mimetype": "text/x-python",
   "name": "python",
   "nbconvert_exporter": "python",
   "pygments_lexer": "ipython3",
   "version": "3.9.6"
  }
 },
 "nbformat": 4,
 "nbformat_minor": 2
}
