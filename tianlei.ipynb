{
 "cells": [
  {
   "cell_type": "code",
   "execution_count": 1,
   "metadata": {},
   "outputs": [],
   "source": [
    "import pandas\n",
    "import math\n",
    "import numpy as np\n",
    "import matplotlib.pyplot as plt\n",
    "import statsmodels.api as sm\n",
    "from scipy.stats import norm\n",
    "from statsmodels.sandbox.regression.gmm import GMM\n",
    "from statsmodels.base.model import GenericLikelihoodModel\n",
    "from scipy.stats import genextreme"
   ]
  },
  {
   "cell_type": "code",
   "execution_count": 8,
   "metadata": {},
   "outputs": [],
   "source": [
    "#load data into memory\n",
    "data1 = np.genfromtxt('OTC_Data_forStata_modified.csv', delimiter=',')\n",
    "\n",
    "#partition correctly\n",
    "y = data1[5]\n",
    "x = sm.add_constant(data1[6])"
   ]
  },
  {
   "cell_type": "code",
   "execution_count": 9,
   "metadata": {},
   "outputs": [
    {
     "name": "stdout",
     "output_type": "stream",
     "text": [
      "                            OLS Regression Results                            \n",
      "==============================================================================\n",
      "Dep. Variable:                      y   R-squared:                       1.000\n",
      "Model:                            OLS   Adj. R-squared:                  1.000\n",
      "Method:                 Least Squares   F-statistic:                 1.182e+06\n",
      "Date:                Thu, 21 Mar 2024   Prob (F-statistic):           1.27e-33\n",
      "Time:                        18:37:02   Log-Likelihood:                -64.064\n",
      "No. Observations:                  15   AIC:                             132.1\n",
      "Df Residuals:                      13   BIC:                             133.5\n",
      "Df Model:                           1                                         \n",
      "Covariance Type:            nonrobust                                         \n",
      "==============================================================================\n",
      "                 coef    std err          t      P>|t|      [0.025      0.975]\n",
      "------------------------------------------------------------------------------\n",
      "const          4.6083      4.975      0.926      0.371      -6.139      15.355\n",
      "x1             1.2205      0.001   1087.357      0.000       1.218       1.223\n",
      "==============================================================================\n",
      "Omnibus:                       39.548   Durbin-Watson:                   1.023\n",
      "Prob(Omnibus):                  0.000   Jarque-Bera (JB):               87.026\n",
      "Skew:                           3.381   Prob(JB):                     1.27e-19\n",
      "Kurtosis:                      12.671   Cond. No.                     4.59e+03\n",
      "==============================================================================\n",
      "\n",
      "Notes:\n",
      "[1] Standard Errors assume that the covariance matrix of the errors is correctly specified.\n",
      "[2] The condition number is large, 4.59e+03. This might indicate that there are\n",
      "strong multicollinearity or other numerical problems.\n"
     ]
    },
    {
     "name": "stderr",
     "output_type": "stream",
     "text": [
      "/Users/ynbsztl/opt/anaconda3/lib/python3.9/site-packages/scipy/stats/_stats_py.py:1736: UserWarning: kurtosistest only valid for n>=20 ... continuing anyway, n=15\n",
      "  warnings.warn(\"kurtosistest only valid for n>=20 ... continuing \"\n"
     ]
    }
   ],
   "source": [
    "part_a = sm.OLS(y,x).fit()\n",
    "print(part_a.summary())"
   ]
  },
  {
   "cell_type": "code",
   "execution_count": 13,
   "metadata": {},
   "outputs": [
    {
     "name": "stdout",
     "output_type": "stream",
     "text": [
      "Optimization terminated successfully.\n",
      "         Current function value: 3.531275\n",
      "         Iterations: 232\n",
      "         Function evaluations: 420\n",
      "                                part_b Results                                \n",
      "==============================================================================\n",
      "Dep. Variable:                      y   Log-Likelihood:                -52.969\n",
      "Model:                         part_b   AIC:                             105.9\n",
      "Method:            Maximum Likelihood   BIC:                             105.9\n",
      "Date:                Thu, 21 Mar 2024                                         \n",
      "Time:                        18:42:24                                         \n",
      "No. Observations:                  15                                         \n",
      "Df Residuals:                      14                                         \n",
      "Df Model:                           0                                         \n",
      "==============================================================================\n",
      "                 coef    std err          z      P>|z|      [0.025      0.975]\n",
      "------------------------------------------------------------------------------\n",
      "theta_1       -0.2985      1.420     -0.210      0.833      -3.081       2.484\n",
      "theta_2        1.2208      0.000   3992.410      0.000       1.220       1.221\n",
      "sigma          5.2725      1.284      4.107      0.000       2.756       7.789\n",
      "==============================================================================\n"
     ]
    },
    {
     "name": "stderr",
     "output_type": "stream",
     "text": [
      "/Users/ynbsztl/opt/anaconda3/lib/python3.9/site-packages/scipy/stats/_continuous_distns.py:2858: RuntimeWarning: overflow encountered in exp\n",
      "  pex2 = np.exp(logpex2)\n",
      "/Users/ynbsztl/opt/anaconda3/lib/python3.9/site-packages/statsmodels/base/model.py:2694: UserWarning: df_model + k_constant differs from nparams\n",
      "  warnings.warn(\"df_model + k_constant differs from nparams\")\n",
      "/Users/ynbsztl/opt/anaconda3/lib/python3.9/site-packages/statsmodels/base/model.py:2696: UserWarning: df_resid differs from nobs - nparams\n",
      "  warnings.warn(\"df_resid differs from nobs - nparams\")\n"
     ]
    }
   ],
   "source": [
    "class part_b(GenericLikelihoodModel):\n",
    "\n",
    "    def nloglikeobs(self, params):\n",
    "        t1, t2, sigma = params\n",
    "        endog, exog = self.endog, self.exog.squeeze()\n",
    "        eps = endog - t1 - t2*exog\n",
    "        return - genextreme.logpdf(eps, c=0, loc=0, scale=sigma).sum()\n",
    "    \n",
    "    def fit(self, start_params=None, maxiter=10000, maxfun=5000, **kwds):\n",
    "        if start_params == None:\n",
    "            start_params = start_params = [.5, .5,.5]\n",
    "        return super(part_b, self).fit(start_params=start_params,\n",
    "                                       maxiter=maxiter, maxfun=maxfun, **kwds)\n",
    "\n",
    "model_b = part_b(data1[5],data1[6])\n",
    "\n",
    "result_b = model_b.fit()\n",
    "print(result_b.summary(xname=['theta_1', 'theta_2', 'sigma']))\n"
   ]
  },
  {
   "cell_type": "code",
   "execution_count": null,
   "metadata": {},
   "outputs": [
    {
     "name": "stdout",
     "output_type": "stream",
     "text": [
      "Optimization terminated successfully.\n",
      "         Current function value: 0.000000\n",
      "         Iterations: 37\n",
      "         Function evaluations: 70\n",
      "Optimization terminated successfully.\n",
      "         Current function value: 0.000000\n",
      "         Iterations: 13\n",
      "         Function evaluations: 26\n",
      "                                part_c Results                                \n",
      "==============================================================================\n",
      "Dep. Variable:                      y   Hansen J:                    1.288e-06\n",
      "Model:                         part_c   Prob (Hansen J):                   nan\n",
      "Method:                           GMM                                         \n",
      "Date:                Wed, 20 Mar 2024                                         \n",
      "Time:                        11:55:48                                         \n",
      "No. Observations:                 500                                         \n",
      "==============================================================================\n",
      "                 coef    std err          z      P>|z|      [0.025      0.975]\n",
      "------------------------------------------------------------------------------\n",
      "theta_1        0.0055      0.022      0.248      0.804      -0.038       0.049\n",
      "theta_2        1.0104      0.022     45.052      0.000       0.966       1.054\n",
      "==============================================================================\n"
     ]
    }
   ],
   "source": [
    "#part c - GMM\n",
    "\n",
    "class part_c(GMM):\n",
    "    \"\"\"class for evaluating question 1 part c\"\"\"\n",
    "    \n",
    "    def __init__(self, *args, **kwds):\n",
    "        # set appropriate counts for moment conditions and parameters\n",
    "        kwds.setdefault('k_moms', 2)\n",
    "        kwds.setdefault('k_params',2)\n",
    "        super(part_c, self).__init__(*args, **kwds)\n",
    "    \n",
    "    \n",
    "    def fit(self, start_params=None, maxiter=10000, **kwds):\n",
    "        if start_params == None:\n",
    "            start_params = np.array([.5, .5])\n",
    "        return super(part_c, self).fit(start_params=start_params,\n",
    "                                       maxiter=maxiter,  **kwds)\n",
    "    \n",
    "    \n",
    "    def momcond(self, params):\n",
    "        t1,t2 = params  #unwrap parameters\n",
    "        endog, exog = self.endog, self.exog.squeeze()\n",
    "        eps = endog - t1 - t2*exog \n",
    "        g = np.column_stack( (eps, eps*exog ))\n",
    "        return g \n",
    "\n",
    "    \n",
    "model_c = part_c(data1[0],data1[1], None)\n",
    "result_c = model_c.fit(maxiter=2, optim_method='nm', wargs=dict(centered=False))\n",
    "print(result_c.summary(xname=['theta_1', 'theta_2']))\n",
    "\n",
    "\n",
    "#sources:\n",
    "#https://github.com/josef-pkt/misc/blob/master/notebooks/ex_gmm_gamma.ipynb\n",
    "#https://www.statsmodels.org/dev/generated/statsmodels.sandbox.regression.gmm.GMM.html#statsmodels.sandbox.regression.gmm.GMM\n",
    "#https://gist.github.com/josef-pkt/6895915"
   ]
  },
  {
   "cell_type": "code",
   "execution_count": null,
   "metadata": {},
   "outputs": [],
   "source": []
  }
 ],
 "metadata": {
  "kernelspec": {
   "display_name": "Python 3",
   "language": "python",
   "name": "python3"
  },
  "language_info": {
   "codemirror_mode": {
    "name": "ipython",
    "version": 3
   },
   "file_extension": ".py",
   "mimetype": "text/x-python",
   "name": "python",
   "nbconvert_exporter": "python",
   "pygments_lexer": "ipython3",
   "version": "3.9.17"
  }
 },
 "nbformat": 4,
 "nbformat_minor": 2
}
